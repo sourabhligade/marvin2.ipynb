{
 "cells": [
  {
   "cell_type": "code",
   "execution_count": 1,
   "id": "abb60bf1",
   "metadata": {},
   "outputs": [

    {
     "name": "stdout",
     "output_type": "stream",
     "text": [
      "/t m\n",
      "/t a\n",
      "/t r\n",
      "/t v\n",
      "/t i\n",
      "/t n\n",
      "/t a\n",
      "/t n\n",
      "/t d\n",
      "/t r\n",
      "/t o\n",
      "/t i\n",
      "/t d\n",
      "/t  \n",
      "/t p\n",
      "/t a\n",
      "/t r\n",
      "/t a\n",
      "/t n\n",
      "/t o\n",
      "/t i\n",
      "/t d\n"
     ]
    }
   ],
   "source": [
    "paranoid_android='marvin, the paranoid android'\n",
    "letters=list(paranoid_android)\n",
    "for char in letters[:6]:\n",
    "    print('/t',char)\n",
    "for char in letters[-7:]:\n",
    "    print('/t',char)\n",
    "for char in letters[11:20]:\n",
    "    print('/t',char)    "
   ]
  },
  {
   "cell_type": "code",
   "execution_count": null,
   "id": "35f7ee3c",
   "metadata": {},
   "outputs": [],
   "source": []
  }
 ],
 "metadata": {
  "kernelspec": {
   "display_name": "Python 3",
   "language": "python",
   "name": "python3"
  },
  "language_info": {
   "codemirror_mode": {
    "name": "ipython",
    "version": 3
   },
   "file_extension": ".py",
   "mimetype": "text/x-python",
   "name": "python",
   "nbconvert_exporter": "python",
   "pygments_lexer": "ipython3",
   "version": "3.9.4"
  }
 },
 "nbformat": 4,
 "nbformat_minor": 5
}
